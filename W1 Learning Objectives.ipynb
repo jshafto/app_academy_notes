{
 "cells": [
  {
   "cell_type": "markdown",
   "metadata": {},
   "source": [
    "# W1 Learning Objectives"
   ]
  },
  {
   "cell_type": "markdown",
   "metadata": {},
   "source": [
    "## Expression Lesson Learning Objectives\n",
    "\n",
    "1. Given a working REPL interface, write and execute a statement that will print “hello world” using console.log \n",
    "    - `console.log(\"hello world\");`\n",
    "    - `console.log('hello' + ' world');`\n",
    "1. Identify that strings are a list of characters defined by using double or single quotes\n",
    "    - `\"I am a string\"`\n",
    "    - `'I am a string'`\n",
    "    - don't use single quotes if you want to use an apostrophe, e.g. ~~`'I'm a string'`~~\n",
    "    - don't use double quotes if you want to include a quote, e.g. ~~`\"She said, \"I am a string.\"\"`~~\n",
    "1. Given an arithmetic expression using `+`, `-`, `*`, `/`, `%`, compute its value\n",
    "    - `10 + 3 => 13`\n",
    "    - `10 - 3 => 7`\n",
    "    - `10 * 3 => 30`\n",
    "    - `10 / 3 => 3.3333333333[...]`\n",
    "    - `10 % 3 => 1`\n",
    "1. Given an expression, predict if its value is `NaN`\n",
    "    - Broadly, performing numerical operations on non-numerical types will yield NaN\n",
    "    - e.g. `\"hi\"/8 => NaN`\n",
    "1. Construct the truth tables for `&&`, `||`, `!`.\n",
    "    - `false && false => false`\n",
    "    - `false && true  => false`\n",
    "    - `true  && false => false`\n",
    "    - `true  && true  => true`\n",
    "    - `false || false => false`\n",
    "    - `false || true  => true`\n",
    "    - `true  || false => true`\n",
    "    - `true  || true  => true`\n",
    "    - `!false         => true`\n",
    "    - `!true          => false`\n",
    "1. Given an expression consisting of >, >=, ===, <, <=, compute it’s value\n",
    "    - `23 > 5   => false`\n",
    "1. Apply De Morgan’s law to a boolean expression\n",
    "    - `!(true && false)  => !true || !false `\n",
    "    - `!(true || false)  => !true && !false`\n",
    "1. Given an expression that utilizes operator precedence, compute its value\n",
    "    - Remember BODMAS: Brackets, Orders(powers), Division, Multiplication, Addition, Subtraction.\n",
    "    - more info on the MDN [here](https://developer.mozilla.org/en-US/docs/Web/JavaScript/Reference/Operators/Operator_Precedence)\n",
    "1. Given an expression, use the grouping operator to change it’s evaluation\n",
    "1. Given expressions using `==` and `===`, compute their values\n",
    "1. Given a code snippet using postfix `++`, postfix `--`, `+=`, `-=`, `/=`, `*=`, predict the value of labeled lines\n",
    "1. Create and assign a variable using let to a string, integer, and a boolean. Read its value and print to the console.\n",
    "\n"
   ]
  },
  {
   "cell_type": "markdown",
   "metadata": {},
   "source": [
    "## Intro to Functions Lesson Learning Objectives\n",
    "\n",
    "1. Define a function using function declaration\n",
    "    - `function fun(stuff) {function goes here}`\n",
    "1. Define a function that calculates the average of two numbers, call it, pass in arguments, and print it’s return value \n",
    "<code> \n",
    "  > function average(num1, num2) {\n",
    "  >   return (num1 + num2) / 2;\n",
    "  >}\n",
    "  >console.log(average(5, 13));\n",
    "</code>\n",
    "1. Identify the difference between parameters vs arguments.\n",
    "    - parameters appear in the function definition.\n",
    "        - e.g. ```(num1, num2)``` above.\n",
    "    - arguments are passed to the function when it is called.\n",
    "        - e.g. ```(5, 13)``` above."
   ]
  },
  {
   "cell_type": "markdown",
   "metadata": {},
   "source": [
    "\n",
    "## Control Flow and Array Lesson Learning Objectives\n",
    "\n",
    "1. Define a function that accepts a sentence string and two words as args. The function should return a boolean indicating if the sentence includes either word.\n",
    "<code>\n",
    ">function includesEither(sentence, word1, word2) {\n",
    ">  if (sentence.includes(word1) || sentence.includes(word2)) {\n",
    ">    return true;\n",
    ">  }\n",
    ">  return false;\n",
    "}\n",
    "</code>\n",
    "1. Identify a pair of mutually exclusive conditions\n",
    "    - just means they cannot be true at the same time\n",
    "    - if `a` is `true`, then `b` is `false`, \n",
    "    - e.g. `(n === 7)` and `(n !== 7)` \n",
    "1. Given a for loop, translate it into a while loop, and vice-versa\n",
    "1. Write a function that iterates through a provided string argument\n",
    "1. Given a description of pig latin, write a function that takes in a string argument and utilizes String#slice to translate the string into pig latin.\n",
    "1. Write a function that takes in an array of words and a string as arguments and returns a boolean indicating whether the string is located inside of the array. The function must use Array#indexOf.\n",
    "1. Define that an array literal is an ordered list of values defined by using bracket and individual values are read by indexing.\n",
    "1. Prevent code that can throw an exception from causing the program to crash.\n"
   ]
  },
  {
   "cell_type": "markdown",
   "metadata": {},
   "source": [
    "## Intermediate Functions Lesson Learning Objectives\n",
    "\n",
    "1. Identify that strings are immutable and arrays are mutable\n",
    "2. Define a function using both function declaration and function expression syntax\n",
    "3. Utilize Array#push, #pop, #shift, #unshift to mutate an array\n",
    "3. List the arguments that can be used with Array#splice\n",
    "4. Write a function that sums up elements of an array, given an array of numbers as an argument\n",
    "5. Utilize Array#forEach, #map, #filter, #reduce in a function\n",
    "6. Define a function that takes in an array of numbers and returns a new array containing only the primes\n",
    "7. Define a function that takes in a 2D array of numbers and returns the total sum of all elements in the array\n",
    "8. Define a function that takes in an array of elements and returns a 2d array where the subarrays represent unique pairs of elements\n",
    "9. Define a function that takes in an array of numbers as an argument and returns the smallest value in the array; if the array is empty return null\n",
    "\n"
   ]
  },
  {
   "cell_type": "code",
   "execution_count": null,
   "metadata": {
    "collapsed": true
   },
   "outputs": [],
   "source": []
  }
 ],
 "metadata": {
  "kernelspec": {
   "display_name": "Python 3",
   "language": "python",
   "name": "python3"
  },
  "language_info": {
   "codemirror_mode": {
    "name": "ipython",
    "version": 3
   },
   "file_extension": ".py",
   "mimetype": "text/x-python",
   "name": "python",
   "nbconvert_exporter": "python",
   "pygments_lexer": "ipython3",
   "version": "3.6.1"
  }
 },
 "nbformat": 4,
 "nbformat_minor": 2
}
